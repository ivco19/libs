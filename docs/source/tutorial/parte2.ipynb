{
 "cells": [
  {
   "cell_type": "markdown",
   "metadata": {},
   "source": [
    "## Part 2 - Functions"
   ]
  },
  {
   "cell_type": "markdown",
   "metadata": {},
   "source": [
    "After loading the database we can use some of the functions of the class object *Cases Frame*."
   ]
  },
  {
   "cell_type": "code",
   "execution_count": 1,
   "metadata": {},
   "outputs": [],
   "source": [
    "import arcovid19 as ac"
   ]
  },
  {
   "cell_type": "code",
   "execution_count": 2,
   "metadata": {},
   "outputs": [],
   "source": [
    "cases = ac.load_cases()"
   ]
  },
  {
   "cell_type": "markdown",
   "metadata": {},
   "source": [
    "Using the method *last_growth_rate* and specifying the *province* argument of the function, we obtain the latest growth rate available for the whole country or by province.\n",
    "\n",
    "If provincia = None, the method will yield the value of Argentina's last growth rate."
   ]
  },
  {
   "cell_type": "code",
   "execution_count": 3,
   "metadata": {},
   "outputs": [
    {
     "data": {
      "text/plain": [
       "0.10067114093959728"
      ]
     },
     "execution_count": 3,
     "metadata": {},
     "output_type": "execute_result"
    }
   ],
   "source": [
    "cases.last_growth_rate(provincia=None)"
   ]
  },
  {
   "cell_type": "markdown",
   "metadata": {},
   "source": [
    "If you want to get the latest growth rate for any particular province, you must replace None for the full name of the province."
   ]
  },
  {
   "cell_type": "code",
   "execution_count": 4,
   "metadata": {
    "scrolled": false
   },
   "outputs": [
    {
     "name": "stderr",
     "output_type": "stream",
     "text": [
      "/home/vanessa/covid/libs/docs/source/tutorial/arcovid19.py:334: RuntimeWarning: divide by zero encountered in true_divide\n",
      "  growth_rate = np.array((I_n / I_n_1) - 1)\n",
      "/home/vanessa/covid/libs/docs/source/tutorial/arcovid19.py:334: RuntimeWarning: invalid value encountered in true_divide\n",
      "  growth_rate = np.array((I_n / I_n_1) - 1)\n"
     ]
    },
    {
     "data": {
      "text/plain": [
       "0.3272727272727274"
      ]
     },
     "execution_count": 4,
     "metadata": {},
     "output_type": "execute_result"
    }
   ],
   "source": [
    "cases.last_growth_rate(provincia='córdoba')"
   ]
  },
  {
   "cell_type": "markdown",
   "metadata": {},
   "source": [
    "In the case that you want to estimate the growth rate in the period where we have data by province or country,  you can use the *grateful_full_period* method.\n",
    "\n",
    "Again, if the province argument equals None, the series shown corresponds to Argentina."
   ]
  },
  {
   "cell_type": "code",
   "execution_count": 5,
   "metadata": {},
   "outputs": [
    {
     "data": {
      "text/plain": [
       "2020-03-04           0\n",
       "2020-03-05           1\n",
       "2020-03-06           3\n",
       "2020-03-07       0.125\n",
       "2020-03-08    0.333333\n",
       "Name: (ARG, growth_rate_C), dtype: object"
      ]
     },
     "execution_count": 5,
     "metadata": {},
     "output_type": "execute_result"
    }
   ],
   "source": [
    "cases.grate_full_period(provincia=None).head(5)"
   ]
  },
  {
   "cell_type": "code",
   "execution_count": 6,
   "metadata": {},
   "outputs": [
    {
     "data": {
      "text/plain": [
       "2020-03-04    NaN\n",
       "2020-03-05    NaN\n",
       "2020-03-06    NaN\n",
       "2020-03-07    0.0\n",
       "2020-03-08    0.0\n",
       "dtype: float64"
      ]
     },
     "execution_count": 6,
     "metadata": {},
     "output_type": "execute_result"
    }
   ],
   "source": [
    "cases.grate_full_period(provincia='córdoba').head(5)"
   ]
  }
 ],
 "metadata": {
  "file_extension": ".py",
  "kernelspec": {
   "display_name": "Python 3",
   "language": "python",
   "name": "python3"
  },
  "language_info": {
   "codemirror_mode": {
    "name": "ipython",
    "version": 3
   },
   "file_extension": ".py",
   "mimetype": "text/x-python",
   "name": "python",
   "nbconvert_exporter": "python",
   "pygments_lexer": "ipython3",
   "version": "3.7.6"
  },
  "mimetype": "text/x-python",
  "name": "python",
  "npconvert_exporter": "python",
  "pygments_lexer": "ipython3",
  "version": 3
 },
 "nbformat": 4,
 "nbformat_minor": 2
}
