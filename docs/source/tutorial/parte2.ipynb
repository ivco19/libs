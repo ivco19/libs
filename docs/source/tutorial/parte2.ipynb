{
 "cells": [
  {
   "cell_type": "markdown",
   "metadata": {},
   "source": [
    "## Part 2 - Functions"
   ]
  },
  {
   "cell_type": "markdown",
   "metadata": {},
   "source": [
    "After loading the database we can use some of the functions of the class object *Cases Frame*."
   ]
  },
  {
   "cell_type": "code",
   "execution_count": 1,
   "metadata": {},
   "outputs": [],
   "source": [
    "import arcovid19 as ac"
   ]
  },
  {
   "cell_type": "code",
   "execution_count": 2,
   "metadata": {},
   "outputs": [],
   "source": [
    "cases = ac.load_cases()"
   ]
  },
  {
   "cell_type": "markdown",
   "metadata": {},
   "source": [
    "Using the method *last_growth_rate* and specifying the *province* argument of the function, we obtain the latest growth rate available for the whole country or by province.\n",
    "\n",
    "If provincia = None, the method will yield the value of Argentina's last growth rate."
   ]
  },
  {
   "cell_type": "code",
   "execution_count": 3,
   "metadata": {},
   "outputs": [
    {
     "data": {
      "text/plain": [
       "0.17804878048780481"
      ]
     },
     "execution_count": 3,
     "metadata": {},
     "output_type": "execute_result"
    }
   ],
   "source": [
    "cases.last_growth_rate(provincia=None)"
   ]
  },
  {
   "cell_type": "markdown",
   "metadata": {},
   "source": [
    "If you want to get the latest growth rate for any particular province, you must replace None for the full name of the province."
   ]
  },
  {
   "cell_type": "code",
   "execution_count": 4,
   "metadata": {
    "scrolled": false
   },
   "outputs": [
    {
     "name": "stderr",
     "output_type": "stream",
     "text": [
      "/home/vanessa/covid/libs/docs/source/tutorial/arcovid19.py:491: RuntimeWarning: divide by zero encountered in true_divide\n",
      "  growth_rate = np.array((I_n / I_n_1) - 1)\n",
      "/home/vanessa/covid/libs/docs/source/tutorial/arcovid19.py:491: RuntimeWarning: invalid value encountered in true_divide\n",
      "  growth_rate = np.array((I_n / I_n_1) - 1)\n"
     ]
    },
    {
     "data": {
      "text/plain": [
       "0.1095890410958904"
      ]
     },
     "execution_count": 4,
     "metadata": {},
     "output_type": "execute_result"
    }
   ],
   "source": [
    "cases.last_growth_rate(provincia='córdoba')"
   ]
  },
  {
   "cell_type": "markdown",
   "metadata": {},
   "source": [
    "In the case that you want to estimate the growth rate in the period where we have data by province or country,  you can use the *grateful_full_period* method.\n",
    "\n",
    "Again, if the province argument equals None, the series shown corresponds to Argentina."
   ]
  },
  {
   "cell_type": "code",
   "execution_count": 5,
   "metadata": {},
   "outputs": [
    {
     "data": {
      "text/plain": [
       "2020-03-04           0\n",
       "2020-03-05           1\n",
       "2020-03-06           3\n",
       "2020-03-07       0.125\n",
       "2020-03-08    0.333333\n",
       "Name: (ARG, growth_rate_C), dtype: object"
      ]
     },
     "execution_count": 5,
     "metadata": {},
     "output_type": "execute_result"
    }
   ],
   "source": [
    "cases.grate_full_period(provincia=None).head(5)"
   ]
  },
  {
   "cell_type": "code",
   "execution_count": 6,
   "metadata": {},
   "outputs": [
    {
     "data": {
      "text/plain": [
       "2020-03-04    NaN\n",
       "2020-03-05    NaN\n",
       "2020-03-06    NaN\n",
       "2020-03-07    0.0\n",
       "2020-03-08    0.0\n",
       "dtype: float64"
      ]
     },
     "execution_count": 6,
     "metadata": {},
     "output_type": "execute_result"
    }
   ],
   "source": [
    "cases.grate_full_period(provincia='córdoba').head(5)"
   ]
  },
  {
   "cell_type": "markdown",
   "metadata": {},
   "source": [
    "In the case that you want the observations by date, that is, not cumulative, you can use the *restore_time_serie* method as shown in the next cell."
   ]
  },
  {
   "cell_type": "code",
   "execution_count": 7,
   "metadata": {},
   "outputs": [
    {
     "data": {
      "text/html": [
       "<div>\n",
       "<style scoped>\n",
       "    .dataframe tbody tr th:only-of-type {\n",
       "        vertical-align: middle;\n",
       "    }\n",
       "\n",
       "    .dataframe tbody tr th {\n",
       "        vertical-align: top;\n",
       "    }\n",
       "\n",
       "    .dataframe thead th {\n",
       "        text-align: right;\n",
       "    }\n",
       "</style>\n",
       "<table border=\"1\" class=\"dataframe\">\n",
       "  <thead>\n",
       "    <tr style=\"text-align: right;\">\n",
       "      <th></th>\n",
       "      <th></th>\n",
       "      <th>provincia_status</th>\n",
       "      <th>Pcia_status</th>\n",
       "      <th>2020-03-03 00:00:00</th>\n",
       "      <th>2020-03-04 00:00:00</th>\n",
       "      <th>2020-03-05 00:00:00</th>\n",
       "      <th>2020-03-06 00:00:00</th>\n",
       "      <th>2020-03-07 00:00:00</th>\n",
       "      <th>2020-03-08 00:00:00</th>\n",
       "      <th>2020-03-09 00:00:00</th>\n",
       "      <th>2020-03-10 00:00:00</th>\n",
       "      <th>...</th>\n",
       "      <th>2020-03-21 00:00:00</th>\n",
       "      <th>2020-03-22 00:00:00</th>\n",
       "      <th>2020-03-23 00:00:00</th>\n",
       "      <th>2020-03-24 00:00:00</th>\n",
       "      <th>2020-03-25 00:00:00</th>\n",
       "      <th>2020-03-26 00:00:00</th>\n",
       "      <th>2020-03-27 00:00:00</th>\n",
       "      <th>2020-03-28 00:00:00</th>\n",
       "      <th>2020-03-29 00:00:00</th>\n",
       "      <th>2020-03-30 00:00:00</th>\n",
       "    </tr>\n",
       "    <tr>\n",
       "      <th>cod_provincia</th>\n",
       "      <th>cod_status</th>\n",
       "      <th></th>\n",
       "      <th></th>\n",
       "      <th></th>\n",
       "      <th></th>\n",
       "      <th></th>\n",
       "      <th></th>\n",
       "      <th></th>\n",
       "      <th></th>\n",
       "      <th></th>\n",
       "      <th></th>\n",
       "      <th></th>\n",
       "      <th></th>\n",
       "      <th></th>\n",
       "      <th></th>\n",
       "      <th></th>\n",
       "      <th></th>\n",
       "      <th></th>\n",
       "      <th></th>\n",
       "      <th></th>\n",
       "      <th></th>\n",
       "      <th></th>\n",
       "    </tr>\n",
       "  </thead>\n",
       "  <tbody>\n",
       "    <tr>\n",
       "      <th rowspan=\"4\" valign=\"top\">CABA</th>\n",
       "      <th>C</th>\n",
       "      <td>CABA_C</td>\n",
       "      <td>CABA Casos Confirmados</td>\n",
       "      <td>1.0</td>\n",
       "      <td>0.0</td>\n",
       "      <td>0.0</td>\n",
       "      <td>4.0</td>\n",
       "      <td>1.0</td>\n",
       "      <td>2.0</td>\n",
       "      <td>1.0</td>\n",
       "      <td>1.0</td>\n",
       "      <td>...</td>\n",
       "      <td>29.0</td>\n",
       "      <td>12.0</td>\n",
       "      <td>11.0</td>\n",
       "      <td>30.0</td>\n",
       "      <td>19.0</td>\n",
       "      <td>31.0</td>\n",
       "      <td>30.0</td>\n",
       "      <td>18.0</td>\n",
       "      <td>13.0</td>\n",
       "      <td>34.0</td>\n",
       "    </tr>\n",
       "    <tr>\n",
       "      <th>R</th>\n",
       "      <td>CABA_R</td>\n",
       "      <td>CABA Casos Recuperados</td>\n",
       "      <td>0.0</td>\n",
       "      <td>0.0</td>\n",
       "      <td>0.0</td>\n",
       "      <td>0.0</td>\n",
       "      <td>0.0</td>\n",
       "      <td>0.0</td>\n",
       "      <td>0.0</td>\n",
       "      <td>0.0</td>\n",
       "      <td>...</td>\n",
       "      <td>22.0</td>\n",
       "      <td>0.0</td>\n",
       "      <td>13.0</td>\n",
       "      <td>0.0</td>\n",
       "      <td>0.0</td>\n",
       "      <td>15.0</td>\n",
       "      <td>0.0</td>\n",
       "      <td>0.0</td>\n",
       "      <td>0.0</td>\n",
       "      <td>0.0</td>\n",
       "    </tr>\n",
       "    <tr>\n",
       "      <th>D</th>\n",
       "      <td>CABA_D</td>\n",
       "      <td>CABA Casos Muertos</td>\n",
       "      <td>0.0</td>\n",
       "      <td>0.0</td>\n",
       "      <td>0.0</td>\n",
       "      <td>0.0</td>\n",
       "      <td>1.0</td>\n",
       "      <td>0.0</td>\n",
       "      <td>0.0</td>\n",
       "      <td>0.0</td>\n",
       "      <td>...</td>\n",
       "      <td>0.0</td>\n",
       "      <td>0.0</td>\n",
       "      <td>0.0</td>\n",
       "      <td>0.0</td>\n",
       "      <td>1.0</td>\n",
       "      <td>1.0</td>\n",
       "      <td>1.0</td>\n",
       "      <td>3.0</td>\n",
       "      <td>0.0</td>\n",
       "      <td>0.0</td>\n",
       "    </tr>\n",
       "    <tr>\n",
       "      <th>A</th>\n",
       "      <td>CABA_A</td>\n",
       "      <td>CABA Casos Activos</td>\n",
       "      <td>1.0</td>\n",
       "      <td>0.0</td>\n",
       "      <td>0.0</td>\n",
       "      <td>4.0</td>\n",
       "      <td>0.0</td>\n",
       "      <td>2.0</td>\n",
       "      <td>1.0</td>\n",
       "      <td>1.0</td>\n",
       "      <td>...</td>\n",
       "      <td>7.0</td>\n",
       "      <td>12.0</td>\n",
       "      <td>-2.0</td>\n",
       "      <td>30.0</td>\n",
       "      <td>18.0</td>\n",
       "      <td>15.0</td>\n",
       "      <td>29.0</td>\n",
       "      <td>15.0</td>\n",
       "      <td>13.0</td>\n",
       "      <td>34.0</td>\n",
       "    </tr>\n",
       "  </tbody>\n",
       "</table>\n",
       "<p>4 rows × 30 columns</p>\n",
       "</div>"
      ],
      "text/plain": [
       "                         provincia_status              Pcia_status  \\\n",
       "cod_provincia cod_status                                             \n",
       "CABA          C                    CABA_C  CABA Casos Confirmados    \n",
       "              R                    CABA_R  CABA Casos Recuperados    \n",
       "              D                    CABA_D      CABA Casos Muertos    \n",
       "              A                    CABA_A       CABA Casos Activos   \n",
       "\n",
       "                          2020-03-03 00:00:00  2020-03-04 00:00:00  \\\n",
       "cod_provincia cod_status                                             \n",
       "CABA          C                           1.0                  0.0   \n",
       "              R                           0.0                  0.0   \n",
       "              D                           0.0                  0.0   \n",
       "              A                           1.0                  0.0   \n",
       "\n",
       "                          2020-03-05 00:00:00  2020-03-06 00:00:00  \\\n",
       "cod_provincia cod_status                                             \n",
       "CABA          C                           0.0                  4.0   \n",
       "              R                           0.0                  0.0   \n",
       "              D                           0.0                  0.0   \n",
       "              A                           0.0                  4.0   \n",
       "\n",
       "                          2020-03-07 00:00:00  2020-03-08 00:00:00  \\\n",
       "cod_provincia cod_status                                             \n",
       "CABA          C                           1.0                  2.0   \n",
       "              R                           0.0                  0.0   \n",
       "              D                           1.0                  0.0   \n",
       "              A                           0.0                  2.0   \n",
       "\n",
       "                          2020-03-09 00:00:00  2020-03-10 00:00:00  ...  \\\n",
       "cod_provincia cod_status                                            ...   \n",
       "CABA          C                           1.0                  1.0  ...   \n",
       "              R                           0.0                  0.0  ...   \n",
       "              D                           0.0                  0.0  ...   \n",
       "              A                           1.0                  1.0  ...   \n",
       "\n",
       "                          2020-03-21 00:00:00  2020-03-22 00:00:00  \\\n",
       "cod_provincia cod_status                                             \n",
       "CABA          C                          29.0                 12.0   \n",
       "              R                          22.0                  0.0   \n",
       "              D                           0.0                  0.0   \n",
       "              A                           7.0                 12.0   \n",
       "\n",
       "                          2020-03-23 00:00:00  2020-03-24 00:00:00  \\\n",
       "cod_provincia cod_status                                             \n",
       "CABA          C                          11.0                 30.0   \n",
       "              R                          13.0                  0.0   \n",
       "              D                           0.0                  0.0   \n",
       "              A                          -2.0                 30.0   \n",
       "\n",
       "                          2020-03-25 00:00:00  2020-03-26 00:00:00  \\\n",
       "cod_provincia cod_status                                             \n",
       "CABA          C                          19.0                 31.0   \n",
       "              R                           0.0                 15.0   \n",
       "              D                           1.0                  1.0   \n",
       "              A                          18.0                 15.0   \n",
       "\n",
       "                          2020-03-27 00:00:00  2020-03-28 00:00:00  \\\n",
       "cod_provincia cod_status                                             \n",
       "CABA          C                          30.0                 18.0   \n",
       "              R                           0.0                  0.0   \n",
       "              D                           1.0                  3.0   \n",
       "              A                          29.0                 15.0   \n",
       "\n",
       "                          2020-03-29 00:00:00  2020-03-30 00:00:00  \n",
       "cod_provincia cod_status                                            \n",
       "CABA          C                          13.0                 34.0  \n",
       "              R                           0.0                  0.0  \n",
       "              D                           0.0                  0.0  \n",
       "              A                          13.0                 34.0  \n",
       "\n",
       "[4 rows x 30 columns]"
      ]
     },
     "execution_count": 7,
     "metadata": {},
     "output_type": "execute_result"
    }
   ],
   "source": [
    "cases.restore_time_serie().head(4)"
   ]
  }
 ],
 "metadata": {
  "file_extension": ".py",
  "kernelspec": {
   "display_name": "Python 3",
   "language": "python",
   "name": "python3"
  },
  "language_info": {
   "codemirror_mode": {
    "name": "ipython",
    "version": 3
   },
   "file_extension": ".py",
   "mimetype": "text/x-python",
   "name": "python",
   "nbconvert_exporter": "python",
   "pygments_lexer": "ipython3",
   "version": "3.7.6"
  },
  "mimetype": "text/x-python",
  "name": "python",
  "npconvert_exporter": "python",
  "pygments_lexer": "ipython3",
  "version": 3
 },
 "nbformat": 4,
 "nbformat_minor": 2
}
